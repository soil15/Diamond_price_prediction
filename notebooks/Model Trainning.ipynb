{
 "cells": [
  {
   "cell_type": "code",
   "execution_count": 121,
   "metadata": {},
   "outputs": [],
   "source": [
    "import pandas as pd\n",
    "import numpy as np\n",
    "from sklearn.impute import SimpleImputer ## Handling Missing Values\n",
    "from sklearn.preprocessing import StandardScaler ## Fearter Scaling\n",
    "from sklearn.preprocessing import OrdinalEncoder ## For Ordinal Encoding Of Categories Like Cut Clarity Color\n",
    "    \n",
    "################# Pipelines ###########################\n",
    "\n",
    "from sklearn.pipeline import Pipeline\n",
    "from sklearn.compose import ColumnTransformer"
   ]
  },
  {
   "cell_type": "code",
   "execution_count": 122,
   "metadata": {},
   "outputs": [],
   "source": [
    "df = pd.read_csv('./data/gemstone.csv')"
   ]
  },
  {
   "cell_type": "code",
   "execution_count": 123,
   "metadata": {},
   "outputs": [
    {
     "data": {
      "text/html": [
       "<div>\n",
       "<style scoped>\n",
       "    .dataframe tbody tr th:only-of-type {\n",
       "        vertical-align: middle;\n",
       "    }\n",
       "\n",
       "    .dataframe tbody tr th {\n",
       "        vertical-align: top;\n",
       "    }\n",
       "\n",
       "    .dataframe thead th {\n",
       "        text-align: right;\n",
       "    }\n",
       "</style>\n",
       "<table border=\"1\" class=\"dataframe\">\n",
       "  <thead>\n",
       "    <tr style=\"text-align: right;\">\n",
       "      <th></th>\n",
       "      <th>id</th>\n",
       "      <th>carat</th>\n",
       "      <th>cut</th>\n",
       "      <th>color</th>\n",
       "      <th>clarity</th>\n",
       "      <th>depth</th>\n",
       "      <th>table</th>\n",
       "      <th>x</th>\n",
       "      <th>y</th>\n",
       "      <th>z</th>\n",
       "      <th>price</th>\n",
       "    </tr>\n",
       "  </thead>\n",
       "  <tbody>\n",
       "    <tr>\n",
       "      <th>0</th>\n",
       "      <td>0</td>\n",
       "      <td>1.52</td>\n",
       "      <td>Premium</td>\n",
       "      <td>F</td>\n",
       "      <td>VS2</td>\n",
       "      <td>62.2</td>\n",
       "      <td>58.0</td>\n",
       "      <td>7.27</td>\n",
       "      <td>7.33</td>\n",
       "      <td>4.55</td>\n",
       "      <td>13619</td>\n",
       "    </tr>\n",
       "    <tr>\n",
       "      <th>1</th>\n",
       "      <td>1</td>\n",
       "      <td>2.03</td>\n",
       "      <td>Very Good</td>\n",
       "      <td>J</td>\n",
       "      <td>SI2</td>\n",
       "      <td>62.0</td>\n",
       "      <td>58.0</td>\n",
       "      <td>8.06</td>\n",
       "      <td>8.12</td>\n",
       "      <td>5.05</td>\n",
       "      <td>13387</td>\n",
       "    </tr>\n",
       "    <tr>\n",
       "      <th>2</th>\n",
       "      <td>2</td>\n",
       "      <td>0.70</td>\n",
       "      <td>Ideal</td>\n",
       "      <td>G</td>\n",
       "      <td>VS1</td>\n",
       "      <td>61.2</td>\n",
       "      <td>57.0</td>\n",
       "      <td>5.69</td>\n",
       "      <td>5.73</td>\n",
       "      <td>3.50</td>\n",
       "      <td>2772</td>\n",
       "    </tr>\n",
       "    <tr>\n",
       "      <th>3</th>\n",
       "      <td>3</td>\n",
       "      <td>0.32</td>\n",
       "      <td>Ideal</td>\n",
       "      <td>G</td>\n",
       "      <td>VS1</td>\n",
       "      <td>61.6</td>\n",
       "      <td>56.0</td>\n",
       "      <td>4.38</td>\n",
       "      <td>4.41</td>\n",
       "      <td>2.71</td>\n",
       "      <td>666</td>\n",
       "    </tr>\n",
       "    <tr>\n",
       "      <th>4</th>\n",
       "      <td>4</td>\n",
       "      <td>1.70</td>\n",
       "      <td>Premium</td>\n",
       "      <td>G</td>\n",
       "      <td>VS2</td>\n",
       "      <td>62.6</td>\n",
       "      <td>59.0</td>\n",
       "      <td>7.65</td>\n",
       "      <td>7.61</td>\n",
       "      <td>4.77</td>\n",
       "      <td>14453</td>\n",
       "    </tr>\n",
       "  </tbody>\n",
       "</table>\n",
       "</div>"
      ],
      "text/plain": [
       "   id  carat        cut color clarity  depth  table     x     y     z  price\n",
       "0   0   1.52    Premium     F     VS2   62.2   58.0  7.27  7.33  4.55  13619\n",
       "1   1   2.03  Very Good     J     SI2   62.0   58.0  8.06  8.12  5.05  13387\n",
       "2   2   0.70      Ideal     G     VS1   61.2   57.0  5.69  5.73  3.50   2772\n",
       "3   3   0.32      Ideal     G     VS1   61.6   56.0  4.38  4.41  2.71    666\n",
       "4   4   1.70    Premium     G     VS2   62.6   59.0  7.65  7.61  4.77  14453"
      ]
     },
     "execution_count": 123,
     "metadata": {},
     "output_type": "execute_result"
    }
   ],
   "source": [
    "df.head()"
   ]
  },
  {
   "cell_type": "code",
   "execution_count": 124,
   "metadata": {},
   "outputs": [],
   "source": [
    "cut_cat = list(df['cut'].unique())\n",
    "color_cat = list(df['color'].unique())\n",
    "clarity_cat = list(df['clarity'].unique())"
   ]
  },
  {
   "cell_type": "code",
   "execution_count": 125,
   "metadata": {},
   "outputs": [],
   "source": [
    "cut_map={\"Fair\":1,\"Good\":2,\"Very Good\":3,\"Premium\":4,\"Ideal\":5}\n",
    "clarity_map = {\"I1\":1,\"SI2\":2 ,\"SI1\":3 ,\"VS2\":4 , \"VS1\":5 , \"VVS2\":6 , \"VVS1\":7 ,\"IF\":8}\n",
    "color_map = {\"D\":1 ,\"E\":2 ,\"F\":3 , \"G\":4 ,\"H\":5 , \"I\":6, \"J\":7}"
   ]
  },
  {
   "cell_type": "code",
   "execution_count": 126,
   "metadata": {},
   "outputs": [],
   "source": [
    "num_cols = [x for x in df.columns if df[x].dtype != 'O']\n",
    "cat_cols = [x for x in df.columns if df[x].dtype == 'O']"
   ]
  },
  {
   "cell_type": "code",
   "execution_count": 127,
   "metadata": {},
   "outputs": [],
   "source": [
    "x = df.drop(labels=['price'], axis=1)"
   ]
  },
  {
   "cell_type": "code",
   "execution_count": 128,
   "metadata": {},
   "outputs": [],
   "source": [
    "y = df['price']"
   ]
  },
  {
   "cell_type": "markdown",
   "metadata": {},
   "source": [
    "<H2>Numerical Pipeline</H2>"
   ]
  },
  {
   "cell_type": "code",
   "execution_count": 129,
   "metadata": {},
   "outputs": [],
   "source": [
    "num_pipline=Pipeline(\n",
    "    steps=[\n",
    "        ('imputer', SimpleImputer(strategy='median')),\n",
    "        ('scalinng', StandardScaler())\n",
    "    ]\n",
    ")"
   ]
  },
  {
   "cell_type": "markdown",
   "metadata": {},
   "source": [
    "<H2>Categorical Pipeline</H2>"
   ]
  },
  {
   "cell_type": "code",
   "execution_count": 130,
   "metadata": {},
   "outputs": [],
   "source": [
    "## After ordinal encoding need to perform scaling \n",
    "## One hot encoding ke case main nahi karne ka\n",
    "\n",
    "cat_pipeline=Pipeline(\n",
    "    steps=[ \n",
    "        ('imputer', SimpleImputer(strategy='most_frequent')),\n",
    "        ('ordinal_encoder', OrdinalEncoder(categories=[cut_cat, color_cat, clarity_cat])),\n",
    "        ('scaling', StandardScaler())\n",
    "    ]\n",
    ")"
   ]
  },
  {
   "cell_type": "code",
   "execution_count": 131,
   "metadata": {},
   "outputs": [],
   "source": [
    "## Removing Output feature Price from num_cols\n",
    "\n",
    "num_cols = num_cols[:-1]"
   ]
  },
  {
   "cell_type": "code",
   "execution_count": 148,
   "metadata": {},
   "outputs": [
    {
     "data": {
      "text/plain": [
       "['cut', 'color', 'clarity']"
      ]
     },
     "execution_count": 148,
     "metadata": {},
     "output_type": "execute_result"
    }
   ],
   "source": [
    "cat_cols"
   ]
  },
  {
   "cell_type": "code",
   "execution_count": 132,
   "metadata": {},
   "outputs": [],
   "source": [
    "preprocessor = ColumnTransformer([\n",
    "    ('num_pipline', num_pipline, num_cols),\n",
    "    ('cat_pipeline', cat_pipeline, cat_cols)\n",
    "])"
   ]
  },
  {
   "cell_type": "markdown",
   "metadata": {},
   "source": [
    "<H2>Train Test Split</H2>"
   ]
  },
  {
   "cell_type": "code",
   "execution_count": 133,
   "metadata": {},
   "outputs": [],
   "source": [
    "from sklearn.model_selection import train_test_split"
   ]
  },
  {
   "cell_type": "code",
   "execution_count": 134,
   "metadata": {},
   "outputs": [],
   "source": [
    "x_train, x_test, y_train, y_test = train_test_split(x, y, test_size=0.30, random_state=69)"
   ]
  },
  {
   "cell_type": "code",
   "execution_count": 147,
   "metadata": {},
   "outputs": [
    {
     "data": {
      "text/html": [
       "<div>\n",
       "<style scoped>\n",
       "    .dataframe tbody tr th:only-of-type {\n",
       "        vertical-align: middle;\n",
       "    }\n",
       "\n",
       "    .dataframe tbody tr th {\n",
       "        vertical-align: top;\n",
       "    }\n",
       "\n",
       "    .dataframe thead th {\n",
       "        text-align: right;\n",
       "    }\n",
       "</style>\n",
       "<table border=\"1\" class=\"dataframe\">\n",
       "  <thead>\n",
       "    <tr style=\"text-align: right;\">\n",
       "      <th></th>\n",
       "      <th>num_pipline__id</th>\n",
       "      <th>num_pipline__carat</th>\n",
       "      <th>num_pipline__depth</th>\n",
       "      <th>num_pipline__table</th>\n",
       "      <th>num_pipline__x</th>\n",
       "      <th>num_pipline__y</th>\n",
       "      <th>num_pipline__z</th>\n",
       "      <th>cat_pipeline__cut</th>\n",
       "      <th>cat_pipeline__color</th>\n",
       "      <th>cat_pipeline__clarity</th>\n",
       "    </tr>\n",
       "  </thead>\n",
       "  <tbody>\n",
       "    <tr>\n",
       "      <th>0</th>\n",
       "      <td>0.406417</td>\n",
       "      <td>-1.018388</td>\n",
       "      <td>-1.497101</td>\n",
       "      <td>-0.641368</td>\n",
       "      <td>-1.142175</td>\n",
       "      <td>-1.135757</td>\n",
       "      <td>-1.239762</td>\n",
       "      <td>0.653353</td>\n",
       "      <td>0.058733</td>\n",
       "      <td>1.042275</td>\n",
       "    </tr>\n",
       "    <tr>\n",
       "      <th>1</th>\n",
       "      <td>0.561313</td>\n",
       "      <td>-0.823816</td>\n",
       "      <td>0.535229</td>\n",
       "      <td>-0.641368</td>\n",
       "      <td>-0.853601</td>\n",
       "      <td>-0.872537</td>\n",
       "      <td>-0.819274</td>\n",
       "      <td>0.653353</td>\n",
       "      <td>-0.473781</td>\n",
       "      <td>2.164576</td>\n",
       "    </tr>\n",
       "    <tr>\n",
       "      <th>2</th>\n",
       "      <td>0.524983</td>\n",
       "      <td>0.884097</td>\n",
       "      <td>1.736151</td>\n",
       "      <td>0.401599</td>\n",
       "      <td>0.832757</td>\n",
       "      <td>0.806624</td>\n",
       "      <td>1.007670</td>\n",
       "      <td>1.688597</td>\n",
       "      <td>-0.473781</td>\n",
       "      <td>-0.080027</td>\n",
       "    </tr>\n",
       "    <tr>\n",
       "      <th>3</th>\n",
       "      <td>-0.283390</td>\n",
       "      <td>-0.629244</td>\n",
       "      <td>-1.035208</td>\n",
       "      <td>0.401599</td>\n",
       "      <td>-0.528954</td>\n",
       "      <td>-0.573011</td>\n",
       "      <td>-0.601781</td>\n",
       "      <td>-1.417135</td>\n",
       "      <td>0.058733</td>\n",
       "      <td>0.481124</td>\n",
       "    </tr>\n",
       "    <tr>\n",
       "      <th>4</th>\n",
       "      <td>-0.369365</td>\n",
       "      <td>0.019331</td>\n",
       "      <td>1.459015</td>\n",
       "      <td>1.444566</td>\n",
       "      <td>0.183464</td>\n",
       "      <td>0.125883</td>\n",
       "      <td>0.282692</td>\n",
       "      <td>1.688597</td>\n",
       "      <td>-0.473781</td>\n",
       "      <td>-0.080027</td>\n",
       "    </tr>\n",
       "    <tr>\n",
       "      <th>...</th>\n",
       "      <td>...</td>\n",
       "      <td>...</td>\n",
       "      <td>...</td>\n",
       "      <td>...</td>\n",
       "      <td>...</td>\n",
       "      <td>...</td>\n",
       "      <td>...</td>\n",
       "      <td>...</td>\n",
       "      <td>...</td>\n",
       "      <td>...</td>\n",
       "    </tr>\n",
       "    <tr>\n",
       "      <th>135496</th>\n",
       "      <td>0.825180</td>\n",
       "      <td>-0.629244</td>\n",
       "      <td>0.073336</td>\n",
       "      <td>-1.162851</td>\n",
       "      <td>-0.519936</td>\n",
       "      <td>-0.573011</td>\n",
       "      <td>-0.529283</td>\n",
       "      <td>0.653353</td>\n",
       "      <td>0.591248</td>\n",
       "      <td>-1.202328</td>\n",
       "    </tr>\n",
       "    <tr>\n",
       "      <th>135497</th>\n",
       "      <td>1.463786</td>\n",
       "      <td>-1.018388</td>\n",
       "      <td>-0.388557</td>\n",
       "      <td>0.401599</td>\n",
       "      <td>-1.187265</td>\n",
       "      <td>-1.172063</td>\n",
       "      <td>-1.196263</td>\n",
       "      <td>-1.417135</td>\n",
       "      <td>0.058733</td>\n",
       "      <td>0.481124</td>\n",
       "    </tr>\n",
       "    <tr>\n",
       "      <th>135498</th>\n",
       "      <td>-1.284509</td>\n",
       "      <td>-1.061627</td>\n",
       "      <td>0.258093</td>\n",
       "      <td>-0.641368</td>\n",
       "      <td>-1.223337</td>\n",
       "      <td>-1.253752</td>\n",
       "      <td>-1.196263</td>\n",
       "      <td>0.653353</td>\n",
       "      <td>1.123763</td>\n",
       "      <td>1.603425</td>\n",
       "    </tr>\n",
       "    <tr>\n",
       "      <th>135499</th>\n",
       "      <td>0.789262</td>\n",
       "      <td>1.554290</td>\n",
       "      <td>0.812365</td>\n",
       "      <td>-0.641368</td>\n",
       "      <td>1.418924</td>\n",
       "      <td>1.387524</td>\n",
       "      <td>1.486156</td>\n",
       "      <td>-1.417135</td>\n",
       "      <td>1.123763</td>\n",
       "      <td>-1.202328</td>\n",
       "    </tr>\n",
       "    <tr>\n",
       "      <th>135500</th>\n",
       "      <td>0.452251</td>\n",
       "      <td>0.494952</td>\n",
       "      <td>-0.388557</td>\n",
       "      <td>-0.119885</td>\n",
       "      <td>0.670434</td>\n",
       "      <td>0.715859</td>\n",
       "      <td>0.659681</td>\n",
       "      <td>0.653353</td>\n",
       "      <td>-1.538810</td>\n",
       "      <td>-1.202328</td>\n",
       "    </tr>\n",
       "  </tbody>\n",
       "</table>\n",
       "<p>135501 rows × 10 columns</p>\n",
       "</div>"
      ],
      "text/plain": [
       "        num_pipline__id  num_pipline__carat  num_pipline__depth  \\\n",
       "0              0.406417           -1.018388           -1.497101   \n",
       "1              0.561313           -0.823816            0.535229   \n",
       "2              0.524983            0.884097            1.736151   \n",
       "3             -0.283390           -0.629244           -1.035208   \n",
       "4             -0.369365            0.019331            1.459015   \n",
       "...                 ...                 ...                 ...   \n",
       "135496         0.825180           -0.629244            0.073336   \n",
       "135497         1.463786           -1.018388           -0.388557   \n",
       "135498        -1.284509           -1.061627            0.258093   \n",
       "135499         0.789262            1.554290            0.812365   \n",
       "135500         0.452251            0.494952           -0.388557   \n",
       "\n",
       "        num_pipline__table  num_pipline__x  num_pipline__y  num_pipline__z  \\\n",
       "0                -0.641368       -1.142175       -1.135757       -1.239762   \n",
       "1                -0.641368       -0.853601       -0.872537       -0.819274   \n",
       "2                 0.401599        0.832757        0.806624        1.007670   \n",
       "3                 0.401599       -0.528954       -0.573011       -0.601781   \n",
       "4                 1.444566        0.183464        0.125883        0.282692   \n",
       "...                    ...             ...             ...             ...   \n",
       "135496           -1.162851       -0.519936       -0.573011       -0.529283   \n",
       "135497            0.401599       -1.187265       -1.172063       -1.196263   \n",
       "135498           -0.641368       -1.223337       -1.253752       -1.196263   \n",
       "135499           -0.641368        1.418924        1.387524        1.486156   \n",
       "135500           -0.119885        0.670434        0.715859        0.659681   \n",
       "\n",
       "        cat_pipeline__cut  cat_pipeline__color  cat_pipeline__clarity  \n",
       "0                0.653353             0.058733               1.042275  \n",
       "1                0.653353            -0.473781               2.164576  \n",
       "2                1.688597            -0.473781              -0.080027  \n",
       "3               -1.417135             0.058733               0.481124  \n",
       "4                1.688597            -0.473781              -0.080027  \n",
       "...                   ...                  ...                    ...  \n",
       "135496           0.653353             0.591248              -1.202328  \n",
       "135497          -1.417135             0.058733               0.481124  \n",
       "135498           0.653353             1.123763               1.603425  \n",
       "135499          -1.417135             1.123763              -1.202328  \n",
       "135500           0.653353            -1.538810              -1.202328  \n",
       "\n",
       "[135501 rows x 10 columns]"
      ]
     },
     "execution_count": 147,
     "metadata": {},
     "output_type": "execute_result"
    }
   ],
   "source": [
    "x_train"
   ]
  },
  {
   "cell_type": "code",
   "execution_count": 136,
   "metadata": {},
   "outputs": [
    {
     "data": {
      "text/plain": [
       "array([[ 0.40641742, -1.01838824, -1.4971007 , ...,  0.65335255,\n",
       "         0.05873337,  1.04227468],\n",
       "       [ 0.56131268, -0.82381593,  0.5352289 , ...,  0.65335255,\n",
       "        -0.47378123,  2.16457588],\n",
       "       [ 0.52498254,  0.88409653,  1.73615094, ...,  1.68859652,\n",
       "        -0.47378123, -0.08002653],\n",
       "       ...,\n",
       "       [-1.28450915, -1.06162653,  0.25809305, ...,  0.65335255,\n",
       "         1.12376258,  1.60342528],\n",
       "       [ 0.78926196,  1.55429002,  0.81236476, ..., -1.4171354 ,\n",
       "         1.12376258, -1.20232773],\n",
       "       [ 0.45225067,  0.49495192, -0.38855728, ...,  0.65335255,\n",
       "        -1.53881044, -1.20232773]])"
      ]
     },
     "execution_count": 136,
     "metadata": {},
     "output_type": "execute_result"
    }
   ],
   "source": [
    "preprocessor.fit_transform(x_train)"
   ]
  },
  {
   "cell_type": "code",
   "execution_count": 137,
   "metadata": {},
   "outputs": [
    {
     "data": {
      "text/plain": [
       "array([[ 0.1532339 , -0.78057764,  0.62760752, ..., -0.38189143,\n",
       "         0.05873337, -1.20232773],\n",
       "       [ 0.27947668,  0.47333277,  0.44285028, ...,  0.65335255,\n",
       "        -1.53881044, -0.64117713],\n",
       "       [ 1.63115487,  0.64628593, -1.4971007 , ..., -0.38189143,\n",
       "         0.59124798, -0.08002653],\n",
       "       ...,\n",
       "       [ 0.92708385,  2.65686642, -0.01904281, ...,  0.65335255,\n",
       "         1.12376258, -0.64117713],\n",
       "       [-0.7846028 , -0.88867337,  0.81236476, ...,  0.65335255,\n",
       "         0.05873337, -0.08002653],\n",
       "       [-0.58174458,  0.23552217, -0.01904281, ..., -0.38189143,\n",
       "         1.12376258, -0.64117713]])"
      ]
     },
     "execution_count": 137,
     "metadata": {},
     "output_type": "execute_result"
    }
   ],
   "source": [
    "preprocessor.transform(x_test)"
   ]
  },
  {
   "cell_type": "code",
   "execution_count": 138,
   "metadata": {},
   "outputs": [],
   "source": [
    "x_train = pd.DataFrame(preprocessor.fit_transform(x_train), columns=preprocessor.get_feature_names_out())\n",
    "x_test = pd.DataFrame(preprocessor.transform(x_test), columns=preprocessor.get_feature_names_out())"
   ]
  },
  {
   "cell_type": "code",
   "execution_count": 139,
   "metadata": {},
   "outputs": [],
   "source": [
    "from sklearn.linear_model import LinearRegression, Lasso, Ridge, ElasticNet\n",
    "from sklearn.metrics import r2_score, mean_absolute_error, mean_squared_error"
   ]
  },
  {
   "cell_type": "code",
   "execution_count": 140,
   "metadata": {},
   "outputs": [
    {
     "data": {
      "text/html": [
       "<style>#sk-container-id-4 {color: black;}#sk-container-id-4 pre{padding: 0;}#sk-container-id-4 div.sk-toggleable {background-color: white;}#sk-container-id-4 label.sk-toggleable__label {cursor: pointer;display: block;width: 100%;margin-bottom: 0;padding: 0.3em;box-sizing: border-box;text-align: center;}#sk-container-id-4 label.sk-toggleable__label-arrow:before {content: \"▸\";float: left;margin-right: 0.25em;color: #696969;}#sk-container-id-4 label.sk-toggleable__label-arrow:hover:before {color: black;}#sk-container-id-4 div.sk-estimator:hover label.sk-toggleable__label-arrow:before {color: black;}#sk-container-id-4 div.sk-toggleable__content {max-height: 0;max-width: 0;overflow: hidden;text-align: left;background-color: #f0f8ff;}#sk-container-id-4 div.sk-toggleable__content pre {margin: 0.2em;color: black;border-radius: 0.25em;background-color: #f0f8ff;}#sk-container-id-4 input.sk-toggleable__control:checked~div.sk-toggleable__content {max-height: 200px;max-width: 100%;overflow: auto;}#sk-container-id-4 input.sk-toggleable__control:checked~label.sk-toggleable__label-arrow:before {content: \"▾\";}#sk-container-id-4 div.sk-estimator input.sk-toggleable__control:checked~label.sk-toggleable__label {background-color: #d4ebff;}#sk-container-id-4 div.sk-label input.sk-toggleable__control:checked~label.sk-toggleable__label {background-color: #d4ebff;}#sk-container-id-4 input.sk-hidden--visually {border: 0;clip: rect(1px 1px 1px 1px);clip: rect(1px, 1px, 1px, 1px);height: 1px;margin: -1px;overflow: hidden;padding: 0;position: absolute;width: 1px;}#sk-container-id-4 div.sk-estimator {font-family: monospace;background-color: #f0f8ff;border: 1px dotted black;border-radius: 0.25em;box-sizing: border-box;margin-bottom: 0.5em;}#sk-container-id-4 div.sk-estimator:hover {background-color: #d4ebff;}#sk-container-id-4 div.sk-parallel-item::after {content: \"\";width: 100%;border-bottom: 1px solid gray;flex-grow: 1;}#sk-container-id-4 div.sk-label:hover label.sk-toggleable__label {background-color: #d4ebff;}#sk-container-id-4 div.sk-serial::before {content: \"\";position: absolute;border-left: 1px solid gray;box-sizing: border-box;top: 0;bottom: 0;left: 50%;z-index: 0;}#sk-container-id-4 div.sk-serial {display: flex;flex-direction: column;align-items: center;background-color: white;padding-right: 0.2em;padding-left: 0.2em;position: relative;}#sk-container-id-4 div.sk-item {position: relative;z-index: 1;}#sk-container-id-4 div.sk-parallel {display: flex;align-items: stretch;justify-content: center;background-color: white;position: relative;}#sk-container-id-4 div.sk-item::before, #sk-container-id-4 div.sk-parallel-item::before {content: \"\";position: absolute;border-left: 1px solid gray;box-sizing: border-box;top: 0;bottom: 0;left: 50%;z-index: -1;}#sk-container-id-4 div.sk-parallel-item {display: flex;flex-direction: column;z-index: 1;position: relative;background-color: white;}#sk-container-id-4 div.sk-parallel-item:first-child::after {align-self: flex-end;width: 50%;}#sk-container-id-4 div.sk-parallel-item:last-child::after {align-self: flex-start;width: 50%;}#sk-container-id-4 div.sk-parallel-item:only-child::after {width: 0;}#sk-container-id-4 div.sk-dashed-wrapped {border: 1px dashed gray;margin: 0 0.4em 0.5em 0.4em;box-sizing: border-box;padding-bottom: 0.4em;background-color: white;}#sk-container-id-4 div.sk-label label {font-family: monospace;font-weight: bold;display: inline-block;line-height: 1.2em;}#sk-container-id-4 div.sk-label-container {text-align: center;}#sk-container-id-4 div.sk-container {/* jupyter's `normalize.less` sets `[hidden] { display: none; }` but bootstrap.min.css set `[hidden] { display: none !important; }` so we also need the `!important` here to be able to override the default hidden behavior on the sphinx rendered scikit-learn.org. See: https://github.com/scikit-learn/scikit-learn/issues/21755 */display: inline-block !important;position: relative;}#sk-container-id-4 div.sk-text-repr-fallback {display: none;}</style><div id=\"sk-container-id-4\" class=\"sk-top-container\"><div class=\"sk-text-repr-fallback\"><pre>LinearRegression()</pre><b>In a Jupyter environment, please rerun this cell to show the HTML representation or trust the notebook. <br />On GitHub, the HTML representation is unable to render, please try loading this page with nbviewer.org.</b></div><div class=\"sk-container\" hidden><div class=\"sk-item\"><div class=\"sk-estimator sk-toggleable\"><input class=\"sk-toggleable__control sk-hidden--visually\" id=\"sk-estimator-id-4\" type=\"checkbox\" checked><label for=\"sk-estimator-id-4\" class=\"sk-toggleable__label sk-toggleable__label-arrow\">LinearRegression</label><div class=\"sk-toggleable__content\"><pre>LinearRegression()</pre></div></div></div></div></div>"
      ],
      "text/plain": [
       "LinearRegression()"
      ]
     },
     "execution_count": 140,
     "metadata": {},
     "output_type": "execute_result"
    }
   ],
   "source": [
    "regression = LinearRegression()\n",
    "regression.fit(x_train, y_train)"
   ]
  },
  {
   "cell_type": "code",
   "execution_count": 141,
   "metadata": {},
   "outputs": [
    {
     "data": {
      "text/plain": [
       "array([-1.17220255e-01,  6.56257694e+03, -2.36817395e+02, -1.76124517e+02,\n",
       "       -2.12788630e+03, -5.52572863e+02, -3.99374442e+01, -7.92901072e+00,\n",
       "       -1.82485072e+02,  1.24325856e+02])"
      ]
     },
     "execution_count": 141,
     "metadata": {},
     "output_type": "execute_result"
    }
   ],
   "source": [
    "regression.coef_"
   ]
  },
  {
   "cell_type": "code",
   "execution_count": 142,
   "metadata": {},
   "outputs": [
    {
     "data": {
      "text/plain": [
       "3970.0783536652825"
      ]
     },
     "execution_count": 142,
     "metadata": {},
     "output_type": "execute_result"
    }
   ],
   "source": [
    "regression.intercept_"
   ]
  },
  {
   "cell_type": "code",
   "execution_count": 143,
   "metadata": {},
   "outputs": [],
   "source": [
    "def eavl_model(true, predicted):\n",
    "    mae = mean_absolute_error(true, predicted)\n",
    "    mse = mean_squared_error(true, predicted)\n",
    "    rmse = np.sqrt(mean_squared_error(true, predicted))\n",
    "    r2_squred = r2_score(true, predicted)\n",
    "    return mae, mse, r2_squred"
   ]
  },
  {
   "cell_type": "code",
   "execution_count": 144,
   "metadata": {},
   "outputs": [],
   "source": [
    "models = {\n",
    "    'LinearRegression' : LinearRegression(),\n",
    "    'Lasso' : Lasso(),\n",
    "    'Ridge' : Ridge(),\n",
    "    'ElasticNet' : ElasticNet()\n",
    "}\n",
    "\n",
    "model_names_list = list(models.keys())\n",
    "model_list = list(models.values())\n",
    "r2_list = []"
   ]
  },
  {
   "cell_type": "code",
   "execution_count": 145,
   "metadata": {},
   "outputs": [
    {
     "data": {
      "text/plain": [
       "[LinearRegression(), Lasso(), Ridge(), ElasticNet()]"
      ]
     },
     "execution_count": 145,
     "metadata": {},
     "output_type": "execute_result"
    }
   ],
   "source": [
    "model_list"
   ]
  },
  {
   "cell_type": "code",
   "execution_count": 146,
   "metadata": {},
   "outputs": [
    {
     "name": "stdout",
     "output_type": "stream",
     "text": [
      "Model Tarinning Performance\n",
      "Mean Absolute error : 733.6694790190835\n",
      "Meas Squared Error : 1478252.8639065959\n",
      "R Squared Error : 90.93694789108203\n",
      "\n",
      "----------------------------------------\n",
      "Model Tarinning Performance\n",
      "Mean Absolute error : 735.0122880626295\n",
      "Meas Squared Error : 1477809.879714949\n",
      "R Squared Error : 90.93966379233976\n",
      "\n",
      "----------------------------------------\n",
      "Model Tarinning Performance\n",
      "Mean Absolute error : 733.6992802473715\n",
      "Meas Squared Error : 1478249.9047677894\n",
      "R Squared Error : 90.93696603332944\n",
      "\n",
      "----------------------------------------\n",
      "Model Tarinning Performance\n",
      "Mean Absolute error : 1138.5598111699048\n",
      "Meas Squared Error : 2694739.8149668644\n",
      "R Squared Error : 83.47876201742721\n",
      "\n",
      "----------------------------------------\n"
     ]
    }
   ],
   "source": [
    "for model in model_list:\n",
    "    \n",
    "    model.fit(x_train, y_train)\n",
    "\n",
    "    y_pred = model.predict(x_test)\n",
    "\n",
    "    mae, mse, r2_sqaure = eavl_model(true=y_test, predicted=y_pred)\n",
    "\n",
    "    print(\"Model Tarinning Performance\")\n",
    "    print(\"Mean Absolute error : {}\\nMeas Squared Error : {}\\nR Squared Error : {}\\n\".format(mae, mse, r2_sqaure * 100))\n",
    "    print(\"-\"*40)"
   ]
  },
  {
   "cell_type": "code",
   "execution_count": null,
   "metadata": {},
   "outputs": [],
   "source": []
  }
 ],
 "metadata": {
  "kernelspec": {
   "display_name": "Python 3",
   "language": "python",
   "name": "python3"
  },
  "language_info": {
   "codemirror_mode": {
    "name": "ipython",
    "version": 3
   },
   "file_extension": ".py",
   "mimetype": "text/x-python",
   "name": "python",
   "nbconvert_exporter": "python",
   "pygments_lexer": "ipython3",
   "version": "3.8.0"
  },
  "orig_nbformat": 4
 },
 "nbformat": 4,
 "nbformat_minor": 2
}
